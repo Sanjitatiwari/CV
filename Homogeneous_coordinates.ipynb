{
 "cells": [
  {
   "cell_type": "markdown",
   "metadata": {},
   "source": [
    "# **Homogeneous Coordinates**"
   ]
  },
  {
   "cell_type": "markdown",
   "metadata": {},
   "source": [
    "In this section we be able to implement the pointconversion(i.e., cartesian coordinate system to homogeneous coordinate system) and geometric transformation like rotation, scaling and translation using Numpy. Furthermore, we will be able to recognize the advantages of the homogeneous system in performing composite transformation.\n"
   ]
  },
  {
   "cell_type": "markdown",
   "metadata": {},
   "source": [
    "\n",
    "* [Point Conversion](#point_conversion)\n",
    "\n",
    "* [Rotation](#rotation)\n",
    "\n",
    "* [Scaling](#scaling)\n",
    "\n",
    "* [Translation](#translation)\n",
    "\n",
    "* [Composite Transformation](#composite_transformation)\n",
    "    "
   ]
  },
  {
   "cell_type": "markdown",
   "metadata": {},
   "source": [
    "# **Overview**"
   ]
  },
  {
   "cell_type": "markdown",
   "metadata": {},
   "source": [
    "Homogeneous coordinates are the coordinates system totally different from the normal coordinate system. In here, we can represent the 2D with 3D homogeneous coordinates, and 3D with 4D homogeneous coordinates. Here, it simply add another component to original coorinate system.\n",
    "\n",
    "Suppose, the cartesian 2D point is $(x,y)$. This cartesian 2D point you can represent into 3D homogeneous form by introducing a third component to it Z. That is, now we can represent $(x,y)$ with $(xZ, yZ, Z)$.\n",
    "\n",
    "This homogeneous coordinate system are good as it provides a lot advantages to you like handling of points at infinity, making formulas simpler, making complex transformation processes simpler and so on. It has a range of applications, including computer gaphics and 3D computer vision, where they allow affine transformatons, and projective transformations to be easily represented by a matrix.\n",
    "\n",
    "Here, we will implement geometric transforamtions like `Rotation`, `Scaling` and `Translation` using homogeneous matrix and also composite transfomation using the above geometric trnasformations."
   ]
  },
  {
   "cell_type": "markdown",
   "metadata": {},
   "source": [
    "## **Point Conversion** <a name='point_conversion'></a>\n",
    "\n",
    "The first excercise is the point conversion where we will perform simple conversion of cartesian coordinates to homogeneous ones and vice-versa. \n"
   ]
  },
  {
   "cell_type": "code",
   "execution_count": 3,
   "metadata": {},
   "outputs": [],
   "source": [
    "import numpy as np\n",
    "import matplotlib.pyplot as plt\n",
    "from shapely.geometry.polygon import Polygon\n",
    "from descartes import PolygonPatch"
   ]
  },
  {
   "cell_type": "markdown",
   "metadata": {},
   "source": [
    "In the homogeneous function, we just add another term, $w$, to the orginal co-ordinate system, $(x,y)$, as shown in the examples below.\n",
    "\n",
    "$$\n",
    "(x,y) ---> (x,y,1)\\\\\n",
    "(x/w, y/w) ---> (x,y,w)\n",
    "$$\n",
    "\n",
    "Now, we need to create a function for the conversion of homogeneous coordinates to cartesian form and cartesian form to homogeneous ones."
   ]
  },
  {
   "cell_type": "markdown",
   "metadata": {},
   "source": [
    "Create function `cartesian_to_homogenous()`. Here, we need to just add extra element to original coordinate system.**\n",
    "\n",
    "Hint: \n",
    "\n",
    "(5,5) is cartesian, homogeneous coordinates will be (5,5,1)."
   ]
  },
  {
   "cell_type": "code",
   "execution_count": 6,
   "metadata": {},
   "outputs": [],
   "source": [
    "def cartesian_to_homogeneous(coordinates):\n",
    "\n",
    "    # Converting the input to a NumPy array for easier manipulation\n",
    "    coordinates = np.array(coordinates)\n",
    "    \n",
    "    # Adding the homogeneous coordinate (1) as the last element\n",
    "    homogeneous_coords = np.append(coordinates, 1)\n",
    "    \n",
    "    return homogeneous_coords"
   ]
  },
  {
   "cell_type": "code",
   "execution_count": 7,
   "metadata": {},
   "outputs": [
    {
     "name": "stdout",
     "output_type": "stream",
     "text": [
      "2D Cartesian to Homogeneous: [5 5 1]\n",
      "3D Cartesian to Homogeneous: [5 5 7 1]\n"
     ]
    }
   ],
   "source": [
    "# Example usage\n",
    "cartesian_2d = [5, 5]\n",
    "cartesian_3d = [5, 5, 7]\n",
    "\n",
    "print(\"2D Cartesian to Homogeneous:\", cartesian_to_homogeneous(cartesian_2d))  \n",
    "\n",
    "print(\"3D Cartesian to Homogeneous:\", cartesian_to_homogeneous(cartesian_3d))  "
   ]
  },
  {
   "cell_type": "markdown",
   "metadata": {},
   "source": [
    "#### **Task 2:** \n",
    "Create function `homogeneous_to_cartesian()`. Here, we need to just remove the extra element from the given homogeneous coordinate system.\n",
    "\n",
    "Hint: \n",
    "\n",
    "(10, 10, 2) is homogenous coordinates, cartesian coordinates will be (5,5)."
   ]
  },
  {
   "cell_type": "code",
   "execution_count": 8,
   "metadata": {},
   "outputs": [],
   "source": [
    "def homogeneous_to_cartesian(coordinates):\n",
    "    '''\n",
    "    This function converts the homogeneous coordinates to cartesian form.\n",
    "    \n",
    "    Parameters\n",
    "    ----------\n",
    "    coordinates: list or array, can be 3D, 4D homogeneous coordinates\n",
    "    \n",
    "    return\n",
    "    ------\n",
    "    cartesian_coords: np.array of cartesian coordinates\n",
    "    '''\n",
    "    # Converting the input to a NumPy array for easier manipulation\n",
    "    coordinates = np.array(coordinates)\n",
    "    \n",
    "    # The last element is the scaling factor\n",
    "    scaling_factor = coordinates[-1]\n",
    "    \n",
    "    # Dividing all other elements by the scaling factor to get cartesian coordinates\n",
    "    cartesian_coords = coordinates[:-1] / scaling_factor\n",
    "    \n",
    "    return cartesian_coords"
   ]
  },
  {
   "cell_type": "markdown",
   "metadata": {},
   "source": [
    "\n",
    "To implement the homogeneous_to_cartesian() function, we need to remove the last element from the homogeneous coordinates and divide the remaining elements by the last element. This is necessary because homogeneous coordinates are scaled by the last element, and to get back to Cartesian form, we need to divide the other components by this scaling factor."
   ]
  },
  {
   "cell_type": "code",
   "execution_count": 11,
   "metadata": {},
   "outputs": [
    {
     "name": "stdout",
     "output_type": "stream",
     "text": [
      "Homogeneous to Cartesian (2D): [5. 5.]\n",
      "Homogeneous to Cartesian (3D): [ 5. 10. 15.]\n"
     ]
    }
   ],
   "source": [
    "# Example usage\n",
    "homogeneous_2d = [10, 10, 2]\n",
    "homogeneous_3d = [15, 30, 45, 3]\n",
    "\n",
    "print(\"Homogeneous to Cartesian (2D):\", homogeneous_to_cartesian(homogeneous_2d))  \n",
    "\n",
    "print(\"Homogeneous to Cartesian (3D):\", homogeneous_to_cartesian(homogeneous_3d))  "
   ]
  },
  {
   "cell_type": "markdown",
   "metadata": {},
   "source": [
    "**Input**: The function takes a list or array of homogeneous coordinates (3D or 4D).<br/>\n",
    "**Conversion**: It divides the first two or three elements (depending on dimensionality) by the last element (the scaling factor).<br/>\n",
    "**Output**: It returns a NumPy array with the Cartesian coordinates."
   ]
  },
  {
   "cell_type": "markdown",
   "metadata": {},
   "source": [
    "## **Rotation** <a name=\"rotation\"></a>\n",
    "\n",
    "Rotation means turning an object around a certain fixed point, called the center of rotation(COR). In rotation, we rotate or turn an object with certain angle, called the angle of rotation(AOR), $\\theta$. \n",
    "\n",
    "In rotation, if angle of rotation is positive, it is called anticlockwise rotation, and if the angle of rotation is negative, it is called clockwise rotation. "
   ]
  },
  {
   "cell_type": "markdown",
   "metadata": {},
   "source": [
    "\n",
    "\n",
    "In this exercise, we create function to rotate the different 2D shapes(like trianlge, square)."
   ]
  },
  {
   "cell_type": "markdown",
   "metadata": {},
   "source": [
    "#### **Task 1:** <a name=\"exercise-2-task-1\"></a>\n",
    "In this task, we create a function to calculate the rotation matrix. \n",
    "\n",
    "___Hint:___\n",
    "\n",
    "   * Use [np.deg2rad()](https://numpy.org/doc/stable/reference/generated/numpy.deg2rad.html) or [np.radians()](https://numpy.org/doc/stable/reference/generated/numpy.radians.html) to convert angle from degree to radians.\n",
    "   \n",
    "   * Convert the following 2D rotation matrices into homogeneous form:\n",
    "\n",
    "   Anticlockwise Rotation matrix:\n",
    "$$ \n",
    "\\begin{bmatrix}\n",
    "cos\\theta & -sin\\theta\n",
    " \\\\\n",
    "sin\\theta & cos\\theta\n",
    "\\end{bmatrix}\n",
    "{-------->}^{Homogeneous form}\n",
    "\\begin{bmatrix}\n",
    "cos\\theta & -sin\\theta & 0\n",
    " \\\\\n",
    "sin\\theta & cos\\theta & 0\n",
    "\\\\ 0 & 0 & 1\n",
    "\\end{bmatrix}\n",
    "$$\n",
    "Clockwise Rotation  matrix:\n",
    "$$ \n",
    "\\begin{bmatrix}\n",
    "cos\\theta & sin\\theta\n",
    " \\\\\n",
    "-sin\\theta & cos\\theta\n",
    "\\end{bmatrix}\n",
    "{-------->}^{Homogeneous form}\n",
    "\\begin{bmatrix}\n",
    "cos\\theta & -sin\\theta & 0\n",
    " \\\\\n",
    "sin\\theta & cos\\theta & 0\n",
    "\\\\ 0 & 0 & 1\n",
    "\\end{bmatrix}\n",
    "$$\n",
    "\n",
    "`NOTE: np.cos(np.radians(90)) !=0 or np.cos(np.deg2rad(90)) !=0(Use some logic for this case)`"
   ]
  },
  {
   "cell_type": "markdown",
   "metadata": {},
   "source": [
    "To implement the get_rotation_matrix() function, we need to compute the 2D rotation matrix in homogeneous form, based on whether the rotation is clockwise or anticlockwise.\n",
    "\n",
    "The formula for the rotation matrix in homogeneous coordinates is:\n",
    "\n",
    "Anticlockwise Rotation Matrix (for positive angles):\n",
    "\n",
    "[\n",
    "cos\n",
    "⁡\n",
    "𝜃\n",
    "−\n",
    "sin\n",
    "⁡\n",
    "𝜃\n",
    "0\n",
    "sin\n",
    "⁡\n",
    "𝜃\n",
    "cos\n",
    "⁡\n",
    "𝜃\n",
    "0\n",
    "0\n",
    "0\n",
    "1\n",
    "]\n",
    "​\n",
    "  \n",
    "cosθ\n",
    "sinθ\n",
    "0\n",
    "​\n",
    "  \n",
    "−sinθ\n",
    "cosθ\n",
    "0\n",
    "​\n",
    "  \n",
    "0\n",
    "0\n",
    "1\n",
    "​\n",
    "  \n",
    "​\n",
    " \n",
    "Clockwise Rotation Matrix (for negative angles):\n",
    "\n",
    "[\n",
    "cos\n",
    "⁡\n",
    "𝜃\n",
    "sin\n",
    "⁡\n",
    "𝜃\n",
    "0\n",
    "−\n",
    "sin\n",
    "⁡\n",
    "𝜃\n",
    "cos\n",
    "⁡\n",
    "𝜃\n",
    "0\n",
    "0\n",
    "0\n",
    "1\n",
    "]\n",
    "​\n",
    "  \n",
    "cosθ\n",
    "−sinθ\n",
    "0\n",
    "​\n",
    "  \n",
    "sinθ\n",
    "cosθ\n",
    "0\n",
    "​\n",
    "  \n",
    "0\n",
    "0\n",
    "1\n",
    "​\n",
    "  \n",
    "​\n",
    " \n",
    "We'll convert the input angle from degrees to radians using np.deg2rad() or np.radians(), then calculate the cosine and sine values, and finally construct the 3x3 homogeneous rotation matrix."
   ]
  },
  {
   "cell_type": "code",
   "execution_count": 13,
   "metadata": {},
   "outputs": [],
   "source": [
    "def get_rotation_matrix(angle):\n",
    "    '''\n",
    "    This function provides the rotation matrix either for clockwise or anticlockwise rotation.\n",
    "    \n",
    "    Parameters\n",
    "    ----------\n",
    "        angle: angle of rotation in degrees (positive for anticlockwise, negative for clockwise)\n",
    "    \n",
    "    Returns\n",
    "    -------\n",
    "        rotation_matrix : 3x3 numpy array in homogeneous form\n",
    "    '''\n",
    "    \n",
    "    # Converting angle to radians\n",
    "    theta = np.deg2rad(angle)\n",
    "    \n",
    "    # Computing cos and sin of the angle\n",
    "    cos_theta = np.cos(theta)\n",
    "    sin_theta = np.sin(theta)\n",
    "    \n",
    "    # Checking for very small values close to zero due to floating-point precision issues\n",
    "    if abs(cos_theta) < 1e-10:\n",
    "        cos_theta = 0\n",
    "    if abs(sin_theta) < 1e-10:\n",
    "        sin_theta = 0\n",
    "    \n",
    "    # Creating the 3x3 homogeneous rotation matrix\n",
    "    rotation_matrix = np.array([\n",
    "        [cos_theta, -sin_theta, 0],\n",
    "        [sin_theta, cos_theta, 0],\n",
    "        [0, 0, 1]\n",
    "    ])\n",
    "    \n",
    "    return rotation_matrix"
   ]
  },
  {
   "cell_type": "code",
   "execution_count": 14,
   "metadata": {},
   "outputs": [
    {
     "name": "stdout",
     "output_type": "stream",
     "text": [
      "Anticlockwise Rotation Matrix (90°):\n",
      " [[ 0. -1.  0.]\n",
      " [ 1.  0.  0.]\n",
      " [ 0.  0.  1.]]\n",
      "\n",
      "Clockwise Rotation Matrix (-90°):\n",
      " [[ 0.  1.  0.]\n",
      " [-1.  0.  0.]\n",
      " [ 0.  0.  1.]]\n"
     ]
    }
   ],
   "source": [
    "# Example usage\n",
    "angle_anticlockwise = 90  \n",
    "angle_clockwise = -90     \n",
    "\n",
    "print(\"Anticlockwise Rotation Matrix (90°):\\n\", get_rotation_matrix(angle_anticlockwise))\n",
    "print(\"\\nClockwise Rotation Matrix (-90°):\\n\", get_rotation_matrix(angle_clockwise))"
   ]
  },
  {
   "cell_type": "markdown",
   "metadata": {},
   "source": [
    "#### **Task 2:** <a name=\"exercise-2-task-2\"></a>\n",
    "In this task, we create a function to perform the action of rotation. \n",
    "\n",
    "***Step 1:***  Convert the given coordinates points to homogeneous coordinate system\n",
    "\n",
    "   * Use `np.array()`, `np.asarray()` for converting list into numpy array\n",
    "   * Substract given coordinates point from centre of rotation\n",
    "   * Use `cartesian_to_homogeneous()`, to convert given points ot homogeneous form \n",
    "   * Use list comprehension to simplify your steps or can perform multiple logical operations\n",
    "       \n",
    "***Step 2:*** Calculate the rotation matric\n",
    "    \n",
    "   * Use `get_rotation_matrix()`, for calculation of the rotation matrix\n",
    "   * Use the center of rotation as origin\n",
    "\n",
    "***Step 3:*** Calculate the rotated points\n",
    "\n",
    "   * Use `np.matmul()`, to multiply homogeneous_points and rotating_matrix for calculating the rotated points\n",
    "   \n",
    "***Step 4:*** Convert homogeneous rotated points to cartesian form\n",
    "\n",
    "   * Use `homogeneous_to_cartesian()`\n"
   ]
  },
  {
   "cell_type": "code",
   "execution_count": 21,
   "metadata": {},
   "outputs": [],
   "source": [
    "def cartesian_to_homogeneous(coordinates):\n",
    "    ''' Convert Cartesian coordinates to Homogeneous form '''\n",
    "    return np.append(np.array(coordinates), 1)\n",
    "\n",
    "def homogeneous_to_cartesian(coordinates):\n",
    "    ''' Convert Homogeneous coordinates to Cartesian form '''\n",
    "    return np.array(coordinates[:-1]) / coordinates[-1]\n",
    "\n",
    "def get_rotation_matrix(angle):\n",
    "    ''' Calculate the 2D homogeneous rotation matrix '''\n",
    "    theta = np.deg2rad(angle)\n",
    "    cos_theta = np.cos(theta)\n",
    "    sin_theta = np.sin(theta)\n",
    "    \n",
    "    # Homogeneous rotation matrix\n",
    "    rotation_matrix = np.array([\n",
    "        [cos_theta, -sin_theta, 0],\n",
    "        [sin_theta, cos_theta, 0],\n",
    "        [0, 0, 1]\n",
    "    ])\n",
    "    \n",
    "    return rotation_matrix"
   ]
  },
  {
   "cell_type": "markdown",
   "metadata": {},
   "source": [
    "To implement the rotation() function, we need to follow the steps described:\n",
    "\n",
    "1. Convert the points to homogeneous coordinates.\n",
    "\n",
    "2. Subtract the points from the center of rotation (COR) to ensure the points are rotated around the COR.\n",
    "Convert the points to homogeneous form using cartesian_to_homogeneous().\n",
    "Calculate the rotation matrix.\n",
    "\n",
    "3. Use the get_rotation_matrix() function to get the rotation matrix based on the angle of rotation.\n",
    "Multiply the points by the rotation matrix.\n",
    "\n",
    "4. Use np.matmul() to perform matrix multiplication between the homogeneous points and the rotation matrix.\n",
    "Convert the rotated points back to Cartesian coordinates.\n",
    "\n",
    "5. Use homogeneous_to_cartesian() to convert the rotated points back to Cartesian form."
   ]
  },
  {
   "cell_type": "code",
   "execution_count": 22,
   "metadata": {},
   "outputs": [],
   "source": [
    "def rotation(points, angle, COR=[0, 0], homogeneous=False):\n",
    "    '''\n",
    "    This function performs rotation and returns the rotated points.\n",
    "    \n",
    "    Parameters\n",
    "    -----------\n",
    "        points: list of x and y coordinates that needs to be rotated\n",
    "        angle: rotating angle in degrees\n",
    "        COR: list of x and y coordinates representing the center of rotation\n",
    "    \n",
    "    Returns\n",
    "    -------\n",
    "        rotated_points: numpy array of rotated points in homogeneous form\n",
    "        cart_rotated_points: numpy array of rotated points in Cartesian form\n",
    "    '''\n",
    "    # STEP 1: Converting points to homogeneous coordinates\n",
    "    # Translating the points relative to the COR (Center of Rotation)\n",
    "    translated_points = [np.array(point) - np.array(COR) for point in points]\n",
    "    \n",
    "    # Converting to homogeneous coordinates\n",
    "    homogenous_points = [cartesian_to_homogeneous(point) for point in translated_points]\n",
    "    \n",
    "    # STEP 2: Getting the rotation matrix\n",
    "    rotation_matrix = get_rotation_matrix(angle)\n",
    "    \n",
    "    # STEP 3: Rotating points by multiplying with rotation matrix\n",
    "    rotated_points = [np.matmul(rotation_matrix, point) for point in homogenous_points]\n",
    "    \n",
    "    # STEP 4: Converting rotated points back to Cartesian form\n",
    "    cart_rotated_points = [homogeneous_to_cartesian(point) + np.array(COR) for point in rotated_points]\n",
    "    \n",
    "    # Always return both rotated points in homogeneous and cartesian form\n",
    "    return np.array(rotated_points), np.array(cart_rotated_points)"
   ]
  },
  {
   "cell_type": "markdown",
   "metadata": {},
   "source": [
    "# Explanation: <br/>\n",
    "Step 1: The points are first translated relative to the center of rotation (COR), then converted to homogeneous coordinates using the cartesian_to_homogeneous() function.  <br/>\n",
    "Step 2: The rotation matrix is calculated using the get_rotation_matrix() function.<br/>\n",
    "Step 3: The homogeneous points are rotated by multiplying with the rotation matrix.<br/>\n",
    "Step 4: The rotated points are converted back to Cartesian coordinates using the homogeneous_to_cartesian() function, and then translated back to the original position relative to the COR."
   ]
  },
  {
   "cell_type": "code",
   "execution_count": 23,
   "metadata": {},
   "outputs": [
    {
     "name": "stdout",
     "output_type": "stream",
     "text": [
      "Homogeneous Rotated Points:\n",
      " [[ 6.123234e-17  1.000000e+00  1.000000e+00]\n",
      " [-1.000000e+00  6.123234e-17  1.000000e+00]\n",
      " [-1.000000e+00  1.000000e+00  1.000000e+00]]\n",
      "\n",
      "Cartesian Rotated Points:\n",
      " [[ 6.123234e-17  1.000000e+00]\n",
      " [-1.000000e+00  6.123234e-17]\n",
      " [-1.000000e+00  1.000000e+00]]\n"
     ]
    }
   ],
   "source": [
    "# Example usage\n",
    "points = [[1, 0], [0, 1], [1, 1]]  # Points of a triangle\n",
    "angle = 90  # Rotate by 90 degrees\n",
    "COR = [0, 0]  # Rotate around the origin\n",
    "\n",
    "rotated_points, cart_rotated_points = rotation(points, angle, COR)\n",
    "\n",
    "print(\"Homogeneous Rotated Points:\\n\", rotated_points)\n",
    "print(\"\\nCartesian Rotated Points:\\n\", cart_rotated_points)\n"
   ]
  }
 ],
 "metadata": {
  "kernelspec": {
   "display_name": "heart_env",
   "language": "python",
   "name": "python3"
  },
  "language_info": {
   "codemirror_mode": {
    "name": "ipython",
    "version": 3
   },
   "file_extension": ".py",
   "mimetype": "text/x-python",
   "name": "python",
   "nbconvert_exporter": "python",
   "pygments_lexer": "ipython3",
   "version": "3.9.19"
  }
 },
 "nbformat": 4,
 "nbformat_minor": 2
}
